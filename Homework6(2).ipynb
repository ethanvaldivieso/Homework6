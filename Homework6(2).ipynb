{
  "nbformat": 4,
  "nbformat_minor": 0,
  "metadata": {
    "colab": {
      "provenance": []
    },
    "kernelspec": {
      "name": "python3",
      "display_name": "Python 3"
    },
    "language_info": {
      "name": "python"
    }
  },
  "cells": [
    {
      "cell_type": "code",
      "execution_count": null,
      "metadata": {
        "id": "YJHsp8r07qwY"
      },
      "outputs": [],
      "source": [
        "import numpy as np\n",
        "from keras.datasets import cifar10\n",
        "from keras.models import Sequential\n",
        "from keras.layers import Conv2D, MaxPooling2D, Dense, Flatten\n",
        "from keras.utils import to_categorical\n",
        "\n",
        "# Set random seed for reproducibility\n",
        "np.random.seed(42)\n"
      ]
    },
    {
      "cell_type": "code",
      "source": [
        "# Load CIFAR 10 dataset\n",
        "(X_train, y_train), (X_test, y_test) = cifar10.load_data()\n"
      ],
      "metadata": {
        "id": "tEdyYZ3oQmUG"
      },
      "execution_count": null,
      "outputs": []
    },
    {
      "cell_type": "code",
      "source": [
        "# Normalize pixel values\n",
        "X_train = X_train.astype('float32') / 255\n",
        "X_test = X_test.astype('float32') / 255\n",
        "\n",
        "# Convert labels to one-hot encoded vectors\n",
        "num_classes = 10\n",
        "y_train = to_categorical(y_train, num_classes)\n",
        "y_test = to_categorical(y_test, num_classes)\n"
      ],
      "metadata": {
        "id": "N0Jzkb1EQpTF"
      },
      "execution_count": null,
      "outputs": []
    },
    {
      "cell_type": "code",
      "source": [
        "# Define CNN model\n",
        "model = Sequential()\n",
        "model.add(Conv2D(32, (3, 3), padding='same', activation='relu', input_shape=(32, 32, 3)))\n",
        "model.add(Conv2D(32, (3, 3), padding='same', activation='relu'))\n",
        "model.add(MaxPooling2D(pool_size=(2, 2)))\n",
        "model.add(Conv2D(64, (3, 3), padding='same', activation='relu'))\n",
        "model.add(Conv2D(64, (3, 3), padding='same', activation='relu'))\n",
        "model.add(MaxPooling2D(pool_size=(2, 2)))\n",
        "model.add(Flatten())\n"
      ],
      "metadata": {
        "id": "HushY1suQs6r"
      },
      "execution_count": null,
      "outputs": []
    },
    {
      "cell_type": "code",
      "source": [
        "# Add fully connected layer with 10 units and softmax activation\n",
        "model.add(Dense(10, activation='softmax'))\n"
      ],
      "metadata": {
        "id": "-aMcv5JHQuLn"
      },
      "execution_count": null,
      "outputs": []
    },
    {
      "cell_type": "code",
      "source": [
        "from keras.callbacks import ModelCheckpoint, EarlyStopping\n",
        "from keras.optimizers import SGD\n",
        "\n",
        "# Define the optimizer\n",
        "optimizer = SGD(learning_rate=0.01)\n",
        "\n",
        "# Compile the model\n",
        "model.compile(optimizer=optimizer, loss='categorical_crossentropy', metrics=['accuracy'])\n",
        "\n",
        "# Set callback functions to early stop training and save the best model so far\n",
        "callbacks = [EarlyStopping(monitor='val_loss', patience=3),\n",
        "             ModelCheckpoint(filepath='best_model.h5', monitor='val_loss', save_best_only=True)]\n",
        "\n",
        "# Train the model for 300 epochs\n",
        "history = model.fit(X_train, y_train, epochs=1, validation_data=(X_test, y_test), callbacks=callbacks)\n"
      ],
      "metadata": {
        "id": "uX9qmaNfRcTt"
      },
      "execution_count": null,
      "outputs": []
    },
    {
      "cell_type": "code",
      "source": [
        "import matplotlib.pyplot as plt\n",
        "\n",
        "# Get training and validation loss and accuracy\n",
        "loss = history.history['loss']\n",
        "val_loss = history.history['val_loss']\n",
        "acc = history.history['accuracy']\n",
        "val_acc = history.history['val_accuracy']\n",
        "\n",
        "# Create count of the number of epochs\n",
        "epochs_count = range(1, len(loss) + 1)\n",
        "\n",
        "# Visualize loss and accuracy\n",
        "plt.plot(epochs_count, loss, 'r--')\n",
        "plt.plot(epochs_count, val_loss, 'b-')\n",
        "plt.legend(['Training Loss', 'Validation Loss'])\n",
        "plt.xlabel('Epoch')\n",
        "plt.ylabel('Loss')\n",
        "plt.show()\n",
        "\n",
        "plt.plot(epochs_count, acc, 'r--')\n",
        "plt.plot(epochs_count, val_acc, 'b-')\n",
        "plt.legend(['Training Accuracy', 'Validation Accuracy'])\n",
        "plt.xlabel('Epoch')\n",
        "plt.ylabel('Accuracy')\n",
        "plt.show()\n"
      ],
      "metadata": {
        "id": "ycYX-Q_KRW_P"
      },
      "execution_count": null,
      "outputs": []
    }
  ]
}